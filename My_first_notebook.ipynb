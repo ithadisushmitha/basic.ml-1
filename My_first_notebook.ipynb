{
  "nbformat": 4,
  "nbformat_minor": 0,
  "metadata": {
    "colab": {
      "name": "My first notebook.ipynb",
      "provenance": [],
      "authorship_tag": "ABX9TyN6dR9Qcz9Ve3qyvIlXvt89",
      "include_colab_link": true
    },
    "kernelspec": {
      "name": "python3",
      "display_name": "Python 3"
    },
    "language_info": {
      "name": "python"
    }
  },
  "cells": [
    {
      "cell_type": "markdown",
      "metadata": {
        "id": "view-in-github",
        "colab_type": "text"
      },
      "source": [
        "<a href=\"https://colab.research.google.com/github/ithadisushmitha/basic.ml-1/blob/main/My_first_notebook.ipynb\" target=\"_parent\"><img src=\"https://colab.research.google.com/assets/colab-badge.svg\" alt=\"Open In Colab\"/></a>"
      ]
    },
    {
      "cell_type": "markdown",
      "metadata": {
        "id": "9F812a2nWPa1"
      },
      "source": [
        "1.Program to determine whether the given number is even or odd"
      ]
    },
    {
      "cell_type": "code",
      "metadata": {
        "colab": {
          "base_uri": "https://localhost:8080/"
        },
        "id": "6E53gJ-xWamA",
        "outputId": "bcaafb51-34b4-41eb-82b8-5352e91c1183"
      },
      "source": [
        "n=int(input())\n",
        "if n%2==0:\n",
        "      print(\"EVEN\")\n",
        "else:\n",
        "      print(\"ODD\")"
      ],
      "execution_count": null,
      "outputs": [
        {
          "output_type": "stream",
          "text": [
            "7\n",
            "ODD\n"
          ],
          "name": "stdout"
        }
      ]
    },
    {
      "cell_type": "markdown",
      "metadata": {
        "id": "XgvhkTfhXlX9"
      },
      "source": [
        ""
      ]
    },
    {
      "cell_type": "markdown",
      "metadata": {
        "id": "mN5URa5dXu4L"
      },
      "source": [
        "2.program to determine whether the given year is leap year or not"
      ]
    },
    {
      "cell_type": "code",
      "metadata": {
        "colab": {
          "base_uri": "https://localhost:8080/"
        },
        "id": "FuerhS2NX3KE",
        "outputId": "71f627b2-b6b4-4305-b6c1-0f2c14ae6be8"
      },
      "source": [
        "n=int(input())\n",
        "if(n%4==0 and n%100!=0) or n%400==0:\n",
        "       print(\"LEAP YEAR\")\n",
        "else:\n",
        "       print(\"ORDINARY YEAR\")"
      ],
      "execution_count": null,
      "outputs": [
        {
          "output_type": "stream",
          "text": [
            "2021\n",
            "ORDINARY YEAR\n"
          ],
          "name": "stdout"
        }
      ]
    },
    {
      "cell_type": "markdown",
      "metadata": {
        "id": "vbYmxoi7YZYA"
      },
      "source": [
        "3.program to find the sum of first 'n' natural numbers"
      ]
    },
    {
      "cell_type": "code",
      "metadata": {
        "colab": {
          "base_uri": "https://localhost:8080/"
        },
        "id": "euqslwzIYiuv",
        "outputId": "d7566a2e-09b1-406e-a141-1039bd753260"
      },
      "source": [
        "n=int(input())\n",
        "sum=0\n",
        "for i in range (1,n+1):\n",
        "       sum+=i\n",
        "print(sum)"
      ],
      "execution_count": null,
      "outputs": [
        {
          "output_type": "stream",
          "text": [
            "15\n",
            "120\n"
          ],
          "name": "stdout"
        }
      ]
    },
    {
      "cell_type": "markdown",
      "metadata": {
        "id": "MouKHbKlcRdn"
      },
      "source": [
        ""
      ]
    }
  ]
}